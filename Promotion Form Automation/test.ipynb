{
 "cells": [
  {
   "cell_type": "code",
   "execution_count": 4,
   "id": "751dfd82",
   "metadata": {},
   "outputs": [
    {
     "name": "stdout",
     "output_type": "stream",
     "text": [
      "Collecting pathlib\n",
      "  Downloading pathlib-1.0.1-py3-none-any.whl (14 kB)\n",
      "Installing collected packages: pathlib\n",
      "Successfully installed pathlib-1.0.1\n",
      "Requirement already satisfied: docxtpl in c:\\users\\nikhil\\anaconda3\\lib\\site-packages (0.16.0)\n",
      "Requirement already satisfied: docxcompose in c:\\users\\nikhil\\anaconda3\\lib\\site-packages (from docxtpl) (1.3.4)\n",
      "Requirement already satisfied: python-docx in c:\\users\\nikhil\\anaconda3\\lib\\site-packages (from docxtpl) (0.8.11)\n",
      "Requirement already satisfied: six in c:\\users\\nikhil\\anaconda3\\lib\\site-packages (from docxtpl) (1.16.0)\n",
      "Requirement already satisfied: jinja2 in c:\\users\\nikhil\\anaconda3\\lib\\site-packages (from docxtpl) (2.11.3)\n",
      "Requirement already satisfied: lxml in c:\\users\\nikhil\\anaconda3\\lib\\site-packages (from docxtpl) (4.7.1)\n",
      "Requirement already satisfied: setuptools in c:\\users\\nikhil\\anaconda3\\lib\\site-packages (from docxcompose->docxtpl) (58.0.4)\n",
      "Requirement already satisfied: MarkupSafe>=0.23 in c:\\users\\nikhil\\anaconda3\\lib\\site-packages (from jinja2->docxtpl) (1.1.1)\n",
      "Requirement already satisfied: openpyxl in c:\\users\\nikhil\\anaconda3\\lib\\site-packages (3.0.9)\n",
      "Requirement already satisfied: et-xmlfile in c:\\users\\nikhil\\anaconda3\\lib\\site-packages (from openpyxl) (1.1.0)\n"
     ]
    }
   ],
   "source": [
    "!pip install pathlib\n",
    "!pip install docxtpl\n",
    "!pip install openpyxl"
   ]
  },
  {
   "cell_type": "code",
   "execution_count": 14,
   "id": "77f6aed8",
   "metadata": {},
   "outputs": [],
   "source": [
    "import os\n",
    "import sys\n",
    "import datetime\n",
    "from pathlib import Path\n",
    "from docxtpl import DocxTemplate\n",
    "import pandas as pd"
   ]
  },
  {
   "cell_type": "code",
   "execution_count": 19,
   "id": "0b30fc96",
   "metadata": {},
   "outputs": [
    {
     "data": {
      "text/plain": [
       "{'TYPED_NAME': 'Sandeep Sharma',\n",
       " 'TYPED_TITLE': 'Application Manager',\n",
       " 'TYPED_ROLE': 'Operations Manager',\n",
       " 'SYSTEM_NAME': 'NPrinting',\n",
       " 'APPROVER_1_NAME': 'Dan Plath',\n",
       " 'APPROVER_1_TITLE': 'Asc Dir Data Vis and Analytics Lead',\n",
       " 'APPROVER_1_ROLE': 'System Owner (for BI front end)',\n",
       " 'APPROVER_2_NAME': 'Danijel Popovic',\n",
       " 'APPROVER_2_TITLE': 'Business information manager',\n",
       " 'APPROVER_2_ROLE': 'IS R&C',\n",
       " 'APPROVER_3_NAME': 'Navya Ramesh',\n",
       " 'APPROVER_3_TITLE': 'Associate Electronic System QA TDQA',\n",
       " 'APPROVER_3_ROLE': 'Quality Assurance'}"
      ]
     },
     "execution_count": 19,
     "metadata": {},
     "output_type": "execute_result"
    }
   ],
   "source": [
    "# getting the data ready from excel \n",
    "context_dictionary = {}\n",
    "data = pd.read_excel(\"Source File.xlsx\")\n",
    "values, keys = data.values.tolist()[0], data.columns.tolist()\n",
    "for key, value in zip(keys, values):\n",
    "    context_dictionary[key] = value\n",
    "context_dictionary"
   ]
  },
  {
   "cell_type": "code",
   "execution_count": 18,
   "id": "7c668193",
   "metadata": {},
   "outputs": [
    {
     "ename": "NameError",
     "evalue": "name '__file__' is not defined",
     "output_type": "error",
     "traceback": [
      "\u001b[1;31m---------------------------------------------------------------------------\u001b[0m",
      "\u001b[1;31mNameError\u001b[0m                                 Traceback (most recent call last)",
      "Input \u001b[1;32mIn [18]\u001b[0m, in \u001b[0;36m<module>\u001b[1;34m\u001b[0m\n\u001b[1;32m----> 1\u001b[0m base_dir \u001b[38;5;241m=\u001b[39m Path(\u001b[38;5;18;43m__file__\u001b[39;49m)\u001b[38;5;241m.\u001b[39mparent\n\u001b[0;32m      2\u001b[0m word_template_path \u001b[38;5;241m=\u001b[39m base_dir \u001b[38;5;241m/\u001b[39m \u001b[38;5;124m\"\u001b[39m\u001b[38;5;124mdummy.docx\u001b[39m\u001b[38;5;124m\"\u001b[39m\n\u001b[0;32m      4\u001b[0m doc \u001b[38;5;241m=\u001b[39m DocxTemplate(word_template_path)\n",
      "\u001b[1;31mNameError\u001b[0m: name '__file__' is not defined"
     ]
    }
   ],
   "source": [
    "base_dir = Path(__file__).parent\n",
    "word_template_path = base_dir / \"dummy.docx\"\n",
    "\n",
    "doc = DocxTemplate(word_template_path)\n",
    "\n",
    "doc.render(context_dictionary)\n",
    "doc.save(base_dir / \"generated_dummy.docx\")"
   ]
  },
  {
   "cell_type": "code",
   "execution_count": 17,
   "id": "a48e5752",
   "metadata": {},
   "outputs": [
    {
     "name": "stdout",
     "output_type": "stream",
     "text": [
      "C:\\Users\\nikhil\\Documents\\Python Scripts\\Promotion Form\n",
      "C:\\Users\\nikhil\\anaconda3\\lib\\site-packages\\ipykernel_launcher.py\n",
      "C:\\Users\\nikhil\\Documents\\Python Scripts\\Promotion Form\n"
     ]
    }
   ],
   "source": [
    "print(os.getcwd())\n",
    "print(sys.argv[0])\n",
    "print(os.path.dirname(os.path.realpath('__file__')))"
   ]
  },
  {
   "cell_type": "code",
   "execution_count": null,
   "id": "ff9bd6e7",
   "metadata": {},
   "outputs": [],
   "source": []
  }
 ],
 "metadata": {
  "kernelspec": {
   "display_name": "Python 3 (ipykernel)",
   "language": "python",
   "name": "python3"
  },
  "language_info": {
   "codemirror_mode": {
    "name": "ipython",
    "version": 3
   },
   "file_extension": ".py",
   "mimetype": "text/x-python",
   "name": "python",
   "nbconvert_exporter": "python",
   "pygments_lexer": "ipython3",
   "version": "3.8.12"
  }
 },
 "nbformat": 4,
 "nbformat_minor": 5
}
