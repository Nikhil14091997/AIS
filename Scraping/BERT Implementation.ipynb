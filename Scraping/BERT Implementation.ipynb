{
 "cells": [
  {
   "cell_type": "code",
   "execution_count": 1,
   "id": "2e332267",
   "metadata": {},
   "outputs": [],
   "source": [
    "from sklearn.feature_extraction.text import TfidfVectorizer\n",
    "from spacy.lang.en import English\n",
    "import numpy as np\n",
    "import pandas as pd"
   ]
  },
  {
   "cell_type": "code",
   "execution_count": 2,
   "id": "55d925b1",
   "metadata": {},
   "outputs": [
    {
     "data": {
      "text/plain": [
       "<spacy.pipeline.sentencizer.Sentencizer at 0x1403a00cd80>"
      ]
     },
     "execution_count": 2,
     "metadata": {},
     "output_type": "execute_result"
    }
   ],
   "source": [
    "nlp = English()\n",
    "nlp.add_pipe('sentencizer')"
   ]
  },
  {
   "cell_type": "code",
   "execution_count": 6,
   "id": "9b45574f",
   "metadata": {},
   "outputs": [
    {
     "ename": "SessionNotCreatedException",
     "evalue": "Message: session not created: This version of ChromeDriver only supports Chrome version 96\nCurrent browser version is 98.0.4758.81 with binary path C:\\Program Files (x86)\\Google\\Chrome\\Application\\chrome.exe\nStacktrace:\nBacktrace:\n\tOrdinal0 [0x00626903+2517251]\n\tOrdinal0 [0x005BF8E1+2095329]\n\tOrdinal0 [0x004C2848+1058888]\n\tOrdinal0 [0x004E0B9D+1182621]\n\tOrdinal0 [0x004DCA60+1165920]\n\tOrdinal0 [0x004DA2CF+1155791]\n\tOrdinal0 [0x0050AAAF+1354415]\n\tOrdinal0 [0x0050A71A+1353498]\n\tOrdinal0 [0x0050639B+1336219]\n\tOrdinal0 [0x004E27A7+1189799]\n\tOrdinal0 [0x004E3609+1193481]\n\tGetHandleVerifier [0x007B5904+1577972]\n\tGetHandleVerifier [0x00860B97+2279047]\n\tGetHandleVerifier [0x006B6D09+534521]\n\tGetHandleVerifier [0x006B5DB9+530601]\n\tOrdinal0 [0x005C4FF9+2117625]\n\tOrdinal0 [0x005C98A8+2136232]\n\tOrdinal0 [0x005C99E2+2136546]\n\tOrdinal0 [0x005D3541+2176321]\n\tBaseThreadInitThunk [0x769DFA29+25]\n\tRtlGetAppContainerNamedObjectPath [0x77197A9E+286]\n\tRtlGetAppContainerNamedObjectPath [0x77197A6E+238]\n",
     "output_type": "error",
     "traceback": [
      "\u001b[1;31m---------------------------------------------------------------------------\u001b[0m",
      "\u001b[1;31mSessionNotCreatedException\u001b[0m                Traceback (most recent call last)",
      "Input \u001b[1;32mIn [6]\u001b[0m, in \u001b[0;36m<module>\u001b[1;34m\u001b[0m\n\u001b[1;32m----> 1\u001b[0m \u001b[38;5;28;01mfrom\u001b[39;00m \u001b[38;5;21;01mMainScript\u001b[39;00m \u001b[38;5;28;01mimport\u001b[39;00m dataHuggingFace\n",
      "File \u001b[1;32m~\\Documents\\Python Scripts\\Scrapping\\Astellas\\MainScript.py:44\u001b[0m, in \u001b[0;36m<module>\u001b[1;34m\u001b[0m\n\u001b[0;32m     35\u001b[0m url \u001b[38;5;241m=\u001b[39m [\u001b[38;5;124m'\u001b[39m\u001b[38;5;124mhttps://www.ema.europa.eu\u001b[39m\u001b[38;5;124m'\u001b[39m,\n\u001b[0;32m     36\u001b[0m        \u001b[38;5;124m'\u001b[39m\u001b[38;5;124mhttps://www.mddionline.com/regulatory-quality/regulations\u001b[39m\u001b[38;5;124m'\u001b[39m,\n\u001b[0;32m     37\u001b[0m        \u001b[38;5;124m'\u001b[39m\u001b[38;5;124mhttps://www.fdanews.com/articles/topic/106?page=5\u001b[39m\u001b[38;5;124m'\u001b[39m,\n\u001b[1;32m   (...)\u001b[0m\n\u001b[0;32m     41\u001b[0m        \u001b[38;5;124m\"\u001b[39m\u001b[38;5;124mhttps://chinameddevice.com/cmd-blogs\u001b[39m\u001b[38;5;124m\"\u001b[39m\n\u001b[0;32m     42\u001b[0m        ]\n\u001b[0;32m     43\u001b[0m \u001b[38;5;66;03m#Calling 'https://www.pacificbridgemedical.com/resource-center/?cat_resource_type%5B%5D=17&cat_resource_market=0&_type=' website's function\u001b[39;00m\n\u001b[1;32m---> 44\u001b[0m all_news \u001b[38;5;241m=\u001b[39m \u001b[43mpacific\u001b[49m\u001b[43m(\u001b[49m\u001b[43murl\u001b[49m\u001b[43m[\u001b[49m\u001b[38;5;241;43m5\u001b[39;49m\u001b[43m]\u001b[49m\u001b[43m)\u001b[49m\n\u001b[0;32m     45\u001b[0m \u001b[38;5;28;01mif\u001b[39;00m \u001b[38;5;28mlen\u001b[39m(all_news) \u001b[38;5;241m>\u001b[39m \u001b[38;5;241m1\u001b[39m:\n\u001b[0;32m     46\u001b[0m     \u001b[38;5;28mprint\u001b[39m(\u001b[38;5;124m\"\u001b[39m\u001b[38;5;124mData for:-\u001b[39m\u001b[38;5;124m\"\u001b[39m, url[\u001b[38;5;241m5\u001b[39m], \u001b[38;5;124m\"\u001b[39m\u001b[38;5;124m populated successfully !!\u001b[39m\u001b[38;5;124m\"\u001b[39m)\n",
      "File \u001b[1;32m~\\Documents\\Python Scripts\\Scrapping\\Astellas\\pacific.py:37\u001b[0m, in \u001b[0;36mpacific\u001b[1;34m(url)\u001b[0m\n\u001b[0;32m     35\u001b[0m options\u001b[38;5;241m.\u001b[39madd_argument(\u001b[38;5;124m'\u001b[39m\u001b[38;5;124m--headless\u001b[39m\u001b[38;5;124m'\u001b[39m)\n\u001b[0;32m     36\u001b[0m options\u001b[38;5;241m.\u001b[39madd_argument(\u001b[38;5;124m'\u001b[39m\u001b[38;5;124m--disable-gpu\u001b[39m\u001b[38;5;124m'\u001b[39m) \n\u001b[1;32m---> 37\u001b[0m driver \u001b[38;5;241m=\u001b[39m \u001b[43mChrome\u001b[49m\u001b[43m(\u001b[49m\u001b[43mexecutable_path\u001b[49m\u001b[38;5;241;43m=\u001b[39;49m\u001b[38;5;124;43m'\u001b[39;49m\u001b[38;5;124;43mC:/Users/nikhil/Downloads/chromedriver_win32/chromedriver.exe\u001b[39;49m\u001b[38;5;124;43m'\u001b[39;49m\u001b[43m,\u001b[49m\u001b[43m \u001b[49m\u001b[43moptions\u001b[49m\u001b[43m \u001b[49m\u001b[38;5;241;43m=\u001b[39;49m\u001b[43m \u001b[49m\u001b[43moptions\u001b[49m\u001b[43m)\u001b[49m\n\u001b[0;32m     38\u001b[0m driver\u001b[38;5;241m.\u001b[39mimplicitly_wait(\u001b[38;5;241m0.5\u001b[39m)\n\u001b[0;32m     39\u001b[0m driver\u001b[38;5;241m.\u001b[39mget(\u001b[38;5;124m'\u001b[39m\u001b[38;5;124mhttps://www.pacificbridgemedical.com/resource-center/?cat_resource_type\u001b[39m\u001b[38;5;124m%\u001b[39m\u001b[38;5;124m5B\u001b[39m\u001b[38;5;124m%\u001b[39m\u001b[38;5;124m5D=17&cat_resource_market=0&_type=\u001b[39m\u001b[38;5;124m'\u001b[39m)\n",
      "File \u001b[1;32m~\\anaconda3\\lib\\site-packages\\selenium\\webdriver\\chrome\\webdriver.py:70\u001b[0m, in \u001b[0;36mWebDriver.__init__\u001b[1;34m(self, executable_path, port, options, service_args, desired_capabilities, service_log_path, chrome_options, service, keep_alive)\u001b[0m\n\u001b[0;32m     67\u001b[0m \u001b[38;5;28;01mif\u001b[39;00m \u001b[38;5;129;01mnot\u001b[39;00m service:\n\u001b[0;32m     68\u001b[0m     service \u001b[38;5;241m=\u001b[39m Service(executable_path, port, service_args, service_log_path)\n\u001b[1;32m---> 70\u001b[0m \u001b[38;5;28;43msuper\u001b[39;49m\u001b[43m(\u001b[49m\u001b[43mWebDriver\u001b[49m\u001b[43m,\u001b[49m\u001b[43m \u001b[49m\u001b[38;5;28;43mself\u001b[39;49m\u001b[43m)\u001b[49m\u001b[38;5;241;43m.\u001b[39;49m\u001b[38;5;21;43m__init__\u001b[39;49m\u001b[43m(\u001b[49m\u001b[43mDesiredCapabilities\u001b[49m\u001b[38;5;241;43m.\u001b[39;49m\u001b[43mCHROME\u001b[49m\u001b[43m[\u001b[49m\u001b[38;5;124;43m'\u001b[39;49m\u001b[38;5;124;43mbrowserName\u001b[39;49m\u001b[38;5;124;43m'\u001b[39;49m\u001b[43m]\u001b[49m\u001b[43m,\u001b[49m\u001b[43m \u001b[49m\u001b[38;5;124;43m\"\u001b[39;49m\u001b[38;5;124;43mgoog\u001b[39;49m\u001b[38;5;124;43m\"\u001b[39;49m\u001b[43m,\u001b[49m\n\u001b[0;32m     71\u001b[0m \u001b[43m                                \u001b[49m\u001b[43mport\u001b[49m\u001b[43m,\u001b[49m\u001b[43m \u001b[49m\u001b[43moptions\u001b[49m\u001b[43m,\u001b[49m\n\u001b[0;32m     72\u001b[0m \u001b[43m                                \u001b[49m\u001b[43mservice_args\u001b[49m\u001b[43m,\u001b[49m\u001b[43m \u001b[49m\u001b[43mdesired_capabilities\u001b[49m\u001b[43m,\u001b[49m\n\u001b[0;32m     73\u001b[0m \u001b[43m                                \u001b[49m\u001b[43mservice_log_path\u001b[49m\u001b[43m,\u001b[49m\u001b[43m \u001b[49m\u001b[43mservice\u001b[49m\u001b[43m,\u001b[49m\u001b[43m \u001b[49m\u001b[43mkeep_alive\u001b[49m\u001b[43m)\u001b[49m\n",
      "File \u001b[1;32m~\\anaconda3\\lib\\site-packages\\selenium\\webdriver\\chromium\\webdriver.py:93\u001b[0m, in \u001b[0;36mChromiumDriver.__init__\u001b[1;34m(self, browser_name, vendor_prefix, port, options, service_args, desired_capabilities, service_log_path, service, keep_alive)\u001b[0m\n\u001b[0;32m     90\u001b[0m \u001b[38;5;28mself\u001b[39m\u001b[38;5;241m.\u001b[39mservice\u001b[38;5;241m.\u001b[39mstart()\n\u001b[0;32m     92\u001b[0m \u001b[38;5;28;01mtry\u001b[39;00m:\n\u001b[1;32m---> 93\u001b[0m     \u001b[43mRemoteWebDriver\u001b[49m\u001b[38;5;241;43m.\u001b[39;49m\u001b[38;5;21;43m__init__\u001b[39;49m\u001b[43m(\u001b[49m\n\u001b[0;32m     94\u001b[0m \u001b[43m        \u001b[49m\u001b[38;5;28;43mself\u001b[39;49m\u001b[43m,\u001b[49m\n\u001b[0;32m     95\u001b[0m \u001b[43m        \u001b[49m\u001b[43mcommand_executor\u001b[49m\u001b[38;5;241;43m=\u001b[39;49m\u001b[43mChromiumRemoteConnection\u001b[49m\u001b[43m(\u001b[49m\n\u001b[0;32m     96\u001b[0m \u001b[43m            \u001b[49m\u001b[43mremote_server_addr\u001b[49m\u001b[38;5;241;43m=\u001b[39;49m\u001b[38;5;28;43mself\u001b[39;49m\u001b[38;5;241;43m.\u001b[39;49m\u001b[43mservice\u001b[49m\u001b[38;5;241;43m.\u001b[39;49m\u001b[43mservice_url\u001b[49m\u001b[43m,\u001b[49m\n\u001b[0;32m     97\u001b[0m \u001b[43m            \u001b[49m\u001b[43mbrowser_name\u001b[49m\u001b[38;5;241;43m=\u001b[39;49m\u001b[43mbrowser_name\u001b[49m\u001b[43m,\u001b[49m\u001b[43m \u001b[49m\u001b[43mvendor_prefix\u001b[49m\u001b[38;5;241;43m=\u001b[39;49m\u001b[43mvendor_prefix\u001b[49m\u001b[43m,\u001b[49m\n\u001b[0;32m     98\u001b[0m \u001b[43m            \u001b[49m\u001b[43mkeep_alive\u001b[49m\u001b[38;5;241;43m=\u001b[39;49m\u001b[43mkeep_alive\u001b[49m\u001b[43m,\u001b[49m\u001b[43m \u001b[49m\u001b[43mignore_proxy\u001b[49m\u001b[38;5;241;43m=\u001b[39;49m\u001b[43m_ignore_proxy\u001b[49m\u001b[43m)\u001b[49m\u001b[43m,\u001b[49m\n\u001b[0;32m     99\u001b[0m \u001b[43m        \u001b[49m\u001b[43moptions\u001b[49m\u001b[38;5;241;43m=\u001b[39;49m\u001b[43moptions\u001b[49m\u001b[43m)\u001b[49m\n\u001b[0;32m    100\u001b[0m \u001b[38;5;28;01mexcept\u001b[39;00m \u001b[38;5;167;01mException\u001b[39;00m:\n\u001b[0;32m    101\u001b[0m     \u001b[38;5;28mself\u001b[39m\u001b[38;5;241m.\u001b[39mquit()\n",
      "File \u001b[1;32m~\\anaconda3\\lib\\site-packages\\selenium\\webdriver\\remote\\webdriver.py:268\u001b[0m, in \u001b[0;36mWebDriver.__init__\u001b[1;34m(self, command_executor, desired_capabilities, browser_profile, proxy, keep_alive, file_detector, options)\u001b[0m\n\u001b[0;32m    266\u001b[0m \u001b[38;5;28mself\u001b[39m\u001b[38;5;241m.\u001b[39mfile_detector \u001b[38;5;241m=\u001b[39m file_detector \u001b[38;5;129;01mor\u001b[39;00m LocalFileDetector()\n\u001b[0;32m    267\u001b[0m \u001b[38;5;28mself\u001b[39m\u001b[38;5;241m.\u001b[39mstart_client()\n\u001b[1;32m--> 268\u001b[0m \u001b[38;5;28;43mself\u001b[39;49m\u001b[38;5;241;43m.\u001b[39;49m\u001b[43mstart_session\u001b[49m\u001b[43m(\u001b[49m\u001b[43mcapabilities\u001b[49m\u001b[43m,\u001b[49m\u001b[43m \u001b[49m\u001b[43mbrowser_profile\u001b[49m\u001b[43m)\u001b[49m\n",
      "File \u001b[1;32m~\\anaconda3\\lib\\site-packages\\selenium\\webdriver\\remote\\webdriver.py:359\u001b[0m, in \u001b[0;36mWebDriver.start_session\u001b[1;34m(self, capabilities, browser_profile)\u001b[0m\n\u001b[0;32m    356\u001b[0m w3c_caps \u001b[38;5;241m=\u001b[39m _make_w3c_caps(capabilities)\n\u001b[0;32m    357\u001b[0m parameters \u001b[38;5;241m=\u001b[39m {\u001b[38;5;124m\"\u001b[39m\u001b[38;5;124mcapabilities\u001b[39m\u001b[38;5;124m\"\u001b[39m: w3c_caps,\n\u001b[0;32m    358\u001b[0m               \u001b[38;5;124m\"\u001b[39m\u001b[38;5;124mdesiredCapabilities\u001b[39m\u001b[38;5;124m\"\u001b[39m: capabilities}\n\u001b[1;32m--> 359\u001b[0m response \u001b[38;5;241m=\u001b[39m \u001b[38;5;28;43mself\u001b[39;49m\u001b[38;5;241;43m.\u001b[39;49m\u001b[43mexecute\u001b[49m\u001b[43m(\u001b[49m\u001b[43mCommand\u001b[49m\u001b[38;5;241;43m.\u001b[39;49m\u001b[43mNEW_SESSION\u001b[49m\u001b[43m,\u001b[49m\u001b[43m \u001b[49m\u001b[43mparameters\u001b[49m\u001b[43m)\u001b[49m\n\u001b[0;32m    360\u001b[0m \u001b[38;5;28;01mif\u001b[39;00m \u001b[38;5;124m'\u001b[39m\u001b[38;5;124msessionId\u001b[39m\u001b[38;5;124m'\u001b[39m \u001b[38;5;129;01mnot\u001b[39;00m \u001b[38;5;129;01min\u001b[39;00m response:\n\u001b[0;32m    361\u001b[0m     response \u001b[38;5;241m=\u001b[39m response[\u001b[38;5;124m'\u001b[39m\u001b[38;5;124mvalue\u001b[39m\u001b[38;5;124m'\u001b[39m]\n",
      "File \u001b[1;32m~\\anaconda3\\lib\\site-packages\\selenium\\webdriver\\remote\\webdriver.py:424\u001b[0m, in \u001b[0;36mWebDriver.execute\u001b[1;34m(self, driver_command, params)\u001b[0m\n\u001b[0;32m    422\u001b[0m response \u001b[38;5;241m=\u001b[39m \u001b[38;5;28mself\u001b[39m\u001b[38;5;241m.\u001b[39mcommand_executor\u001b[38;5;241m.\u001b[39mexecute(driver_command, params)\n\u001b[0;32m    423\u001b[0m \u001b[38;5;28;01mif\u001b[39;00m response:\n\u001b[1;32m--> 424\u001b[0m     \u001b[38;5;28;43mself\u001b[39;49m\u001b[38;5;241;43m.\u001b[39;49m\u001b[43merror_handler\u001b[49m\u001b[38;5;241;43m.\u001b[39;49m\u001b[43mcheck_response\u001b[49m\u001b[43m(\u001b[49m\u001b[43mresponse\u001b[49m\u001b[43m)\u001b[49m\n\u001b[0;32m    425\u001b[0m     response[\u001b[38;5;124m'\u001b[39m\u001b[38;5;124mvalue\u001b[39m\u001b[38;5;124m'\u001b[39m] \u001b[38;5;241m=\u001b[39m \u001b[38;5;28mself\u001b[39m\u001b[38;5;241m.\u001b[39m_unwrap_value(\n\u001b[0;32m    426\u001b[0m         response\u001b[38;5;241m.\u001b[39mget(\u001b[38;5;124m'\u001b[39m\u001b[38;5;124mvalue\u001b[39m\u001b[38;5;124m'\u001b[39m, \u001b[38;5;28;01mNone\u001b[39;00m))\n\u001b[0;32m    427\u001b[0m     \u001b[38;5;28;01mreturn\u001b[39;00m response\n",
      "File \u001b[1;32m~\\anaconda3\\lib\\site-packages\\selenium\\webdriver\\remote\\errorhandler.py:247\u001b[0m, in \u001b[0;36mErrorHandler.check_response\u001b[1;34m(self, response)\u001b[0m\n\u001b[0;32m    245\u001b[0m         alert_text \u001b[38;5;241m=\u001b[39m value[\u001b[38;5;124m'\u001b[39m\u001b[38;5;124malert\u001b[39m\u001b[38;5;124m'\u001b[39m]\u001b[38;5;241m.\u001b[39mget(\u001b[38;5;124m'\u001b[39m\u001b[38;5;124mtext\u001b[39m\u001b[38;5;124m'\u001b[39m)\n\u001b[0;32m    246\u001b[0m     \u001b[38;5;28;01mraise\u001b[39;00m exception_class(message, screen, stacktrace, alert_text)  \u001b[38;5;66;03m# type: ignore[call-arg]  # mypy is not smart enough here\u001b[39;00m\n\u001b[1;32m--> 247\u001b[0m \u001b[38;5;28;01mraise\u001b[39;00m exception_class(message, screen, stacktrace)\n",
      "\u001b[1;31mSessionNotCreatedException\u001b[0m: Message: session not created: This version of ChromeDriver only supports Chrome version 96\nCurrent browser version is 98.0.4758.81 with binary path C:\\Program Files (x86)\\Google\\Chrome\\Application\\chrome.exe\nStacktrace:\nBacktrace:\n\tOrdinal0 [0x00626903+2517251]\n\tOrdinal0 [0x005BF8E1+2095329]\n\tOrdinal0 [0x004C2848+1058888]\n\tOrdinal0 [0x004E0B9D+1182621]\n\tOrdinal0 [0x004DCA60+1165920]\n\tOrdinal0 [0x004DA2CF+1155791]\n\tOrdinal0 [0x0050AAAF+1354415]\n\tOrdinal0 [0x0050A71A+1353498]\n\tOrdinal0 [0x0050639B+1336219]\n\tOrdinal0 [0x004E27A7+1189799]\n\tOrdinal0 [0x004E3609+1193481]\n\tGetHandleVerifier [0x007B5904+1577972]\n\tGetHandleVerifier [0x00860B97+2279047]\n\tGetHandleVerifier [0x006B6D09+534521]\n\tGetHandleVerifier [0x006B5DB9+530601]\n\tOrdinal0 [0x005C4FF9+2117625]\n\tOrdinal0 [0x005C98A8+2136232]\n\tOrdinal0 [0x005C99E2+2136546]\n\tOrdinal0 [0x005D3541+2176321]\n\tBaseThreadInitThunk [0x769DFA29+25]\n\tRtlGetAppContainerNamedObjectPath [0x77197A9E+286]\n\tRtlGetAppContainerNamedObjectPath [0x77197A6E+238]\n"
     ]
    }
   ],
   "source": [
    "from MainScript import dataHuggingFace"
   ]
  },
  {
   "cell_type": "code",
   "execution_count": null,
   "id": "774b9815",
   "metadata": {},
   "outputs": [],
   "source": [
    "import pandas as pd\n",
    "df = pd.DataFrame()\n",
    "for all_news in dataHuggingFace:\n",
    "    df1 = pd.DataFrame(all_news)\n",
    "    df = pd.concat([df, df1])\n",
    "    df = df.reset_index(drop = True)\n",
    "    nan_value = float(\"NaN\")\n",
    "    df.replace(\"\", nan_value, inplace=True)\n",
    "    df.dropna(subset = [\"content\"], inplace=True)\n",
    "df"
   ]
  },
  {
   "cell_type": "code",
   "execution_count": null,
   "id": "6580eed6",
   "metadata": {},
   "outputs": [],
   "source": [
    "import re\n",
    "for i in range(len(df['content'])):\n",
    "    text = df['content'][i]\n",
    "    df['content'][i] = re.sub(r'\\s+', ' ', text)\n",
    "df"
   ]
  },
  {
   "cell_type": "code",
   "execution_count": null,
   "id": "250cf5ed",
   "metadata": {},
   "outputs": [],
   "source": [
    "generalSummary = []\n",
    "for text_corpus in df['content']:\n",
    "    doc = nlp(text_corpus.replace(\"\\n\", \"\"))\n",
    "    sentences = [sent.text.strip() for sent in doc.sents]\n",
    "    # Let's create an organizer which will store the sentence ordering to later reorganize the \n",
    "    # scored sentences in their correct order\n",
    "    sentence_organizer = {k:v for v,k in enumerate(sentences)}\n",
    "    # Let's now create a tf-idf (Term frequnecy Inverse Document Frequency) model\n",
    "    tf_idf_vectorizer = TfidfVectorizer(min_df=2,  max_features=None, \n",
    "                                        strip_accents='unicode', \n",
    "                                        analyzer='word',\n",
    "                                        token_pattern=r'\\w{1,}',\n",
    "                                        ngram_range=(1, 3), \n",
    "                                        use_idf=1,smooth_idf=1,\n",
    "                                        sublinear_tf=1,\n",
    "                                        stop_words = 'english')\n",
    "    # Passing our sentences treating each as one document to TF-IDF vectorizer\n",
    "    tf_idf_vectorizer.fit(sentences)\n",
    "    # Transforming our sentences to TF-IDF vectors\n",
    "    sentence_vectors = tf_idf_vectorizer.transform(sentences)\n",
    "    # Getting sentence scores for each sentences\n",
    "    sentence_scores = np.array(sentence_vectors.sum(axis=1)).ravel()\n",
    "\n",
    "    # Sanity checkup\n",
    "    print(len(sentences) == len(sentence_scores))\n",
    "    # Getting top-n sentences\n",
    "    N = 3\n",
    "    summary = \" \"\n",
    "    if len(sentences) < 3:\n",
    "        summary = \" \".join(sentences)\n",
    "    else:\n",
    "        top_n_sentences = [sentences[ind] for ind in np.argsort(sentence_scores, axis=0)[::-1][:N]]\n",
    "        # Let's now do the sentence ordering using our prebaked sentence_organizer\n",
    "        # Let's map the scored sentences with their indexes\n",
    "        mapped_top_n_sentences = [(sentence,sentence_organizer[sentence]) for sentence in top_n_sentences]\n",
    "        print(\"Our top_n_sentence with their index: \\n\")\n",
    "        for element in mapped_top_n_sentences:\n",
    "            print(element)\n",
    "\n",
    "        # Ordering our top-n sentences in their original ordering\n",
    "        mapped_top_n_sentences = sorted(mapped_top_n_sentences, key = lambda x: x[1])\n",
    "        ordered_scored_sentences = [element[0] for element in mapped_top_n_sentences]\n",
    "\n",
    "        # Our final summary\n",
    "        summary = \" \".join(ordered_scored_sentences)\n",
    "    generalSummary.append(summary)"
   ]
  },
  {
   "cell_type": "code",
   "execution_count": null,
   "id": "5aabc31b",
   "metadata": {},
   "outputs": [],
   "source": [
    "df['generalSummary'] = generalSummary\n",
    "del df['content']\n",
    "df\n"
   ]
  },
  {
   "cell_type": "code",
   "execution_count": null,
   "id": "9823bb58",
   "metadata": {},
   "outputs": [],
   "source": [
    "from datetime import date\n",
    "today = date.today()\n",
    "# dd/mm/YY\n",
    "d1 = today.strftime(\"%d-%m-%Y\")\n",
    "output = 'AIS_data(Scraping+Summrization)_'+d1+'.csv'\n"
   ]
  },
  {
   "cell_type": "code",
   "execution_count": null,
   "id": "c06cc89d",
   "metadata": {},
   "outputs": [],
   "source": [
    "df.to_csv(output, encoding='utf-8-sig', index=False)"
   ]
  },
  {
   "cell_type": "code",
   "execution_count": null,
   "id": "f13d3afb",
   "metadata": {},
   "outputs": [],
   "source": []
  }
 ],
 "metadata": {
  "kernelspec": {
   "display_name": "Python 3 (ipykernel)",
   "language": "python",
   "name": "python3"
  },
  "language_info": {
   "codemirror_mode": {
    "name": "ipython",
    "version": 3
   },
   "file_extension": ".py",
   "mimetype": "text/x-python",
   "name": "python",
   "nbconvert_exporter": "python",
   "pygments_lexer": "ipython3",
   "version": "3.8.12"
  }
 },
 "nbformat": 4,
 "nbformat_minor": 5
}
